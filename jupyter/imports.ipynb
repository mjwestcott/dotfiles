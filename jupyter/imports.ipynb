{
 "cells": [
  {
   "cell_type": "code",
   "execution_count": 1,
   "metadata": {},
   "outputs": [],
   "source": [
    "%matplotlib inline\n",
    "\n",
    "import os\n",
    "import re\n",
    "import sys\n",
    "import json\n",
    "import random\n",
    "import time\n",
    "import datetime\n",
    "from functools import lru_cache\n",
    "from collections import deque, defaultdict, namedtuple\n",
    "from math import log, log2, sqrt, floor, ceil, pi, e, inf\n",
    "\n",
    "import scipy\n",
    "import s3fs\n",
    "import boto3\n",
    "import redis\n",
    "import sqlalchemy\n",
    "import pyspark\n",
    "import findspark\n",
    "import numpy as np\n",
    "import pandas as pd\n",
    "import seaborn as sns\n",
    "import dask.bag as db\n",
    "import dask.array as da\n",
    "import dask.dataframe as dd\n",
    "import matplotlib.pyplot as plt\n",
    "from pyspark.sql import Row, SparkSession, SQLContext\n",
    "from pyspark.sql import functions as F\n",
    "\n",
    "# pd.set_option('display.max_colwidth', -1)\n",
    "# pd.set_option('display.max_columns', None)\n",
    "# pd.set_option('display.max_rows', None)\n",
    "# pd.set_option('display.float_format', '{:.2f}'.format)"
   ]
  },
  {
   "cell_type": "code",
   "execution_count": null,
   "metadata": {},
   "outputs": [],
   "source": []
  }
 ],
 "metadata": {
  "kernelspec": {
   "display_name": "Python 3",
   "language": "python",
   "name": "python3"
  },
  "language_info": {
   "codemirror_mode": {
    "name": "ipython",
    "version": 3
   },
   "file_extension": ".py",
   "mimetype": "text/x-python",
   "name": "python",
   "nbconvert_exporter": "python",
   "pygments_lexer": "ipython3",
   "version": "3.7.4"
  }
 },
 "nbformat": 4,
 "nbformat_minor": 4
}
